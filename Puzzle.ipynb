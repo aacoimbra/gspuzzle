{
 "cells": [
  {
   "cell_type": "code",
   "execution_count": 1,
   "id": "1501bc34-de62-4c2e-b0d4-3ee1e8542c22",
   "metadata": {},
   "outputs": [],
   "source": [
    "import numpy as np"
   ]
  },
  {
   "cell_type": "markdown",
   "id": "de63a8c7-6c7c-4c12-90d4-6e66118958b5",
   "metadata": {},
   "source": [
    "#### a)"
   ]
  },
  {
   "cell_type": "code",
   "execution_count": 2,
   "id": "36d5ac9c-9c45-474b-a370-a995aa4c4fb9",
   "metadata": {},
   "outputs": [
    {
     "data": {
      "text/plain": [
       "array([[1.        , 0.5       , 0.25      , 0.125     , 0.0625    ],\n",
       "       [0.5       , 0.25      , 0.125     , 0.0625    , 0.03125   ],\n",
       "       [0.25      , 0.125     , 0.0625    , 0.03125   , 0.015625  ],\n",
       "       [0.125     , 0.0625    , 0.03125   , 0.015625  , 0.0078125 ],\n",
       "       [0.0625    , 0.03125   , 0.015625  , 0.0078125 , 0.00390625]])"
      ]
     },
     "execution_count": 2,
     "metadata": {},
     "output_type": "execute_result"
    }
   ],
   "source": [
    "'''\n",
    "Uma abordagem pra resolver é considerar cada susuwatari dividido \n",
    "como 1/2 da massa do susuwatari anterior. Dessa forma se ele for\n",
    "divido 1x passará a ser 2 susuwataris com metade da massa, mas a\n",
    "soma da massa será igual ao original. Não importa quantas vezes \n",
    "o susuwatari original for dividido, a soma da massa de todos \n",
    "susuwatari sempre será igual a 1.\n",
    "\n",
    "Dessa forma conseguimos verificar se a àrea restante da casa\n",
    "consegue comportar o susuwatari denrtro do quarto. \n",
    "\n",
    "Dado isso, podemos mapear a massa possível a ser preenchida pelos\n",
    "susuwataris no restante da casa e ver se haveria espaço possível \n",
    "para comportar susuwataris com o total de massa igual a 1.\n",
    "\n",
    "A solução é especifica para o estado inicial e as variaveis que\n",
    "importam são: o tamanho do quarto, a quantidade de susuwataris e\n",
    "suas posições.\n",
    "'''\n",
    "\n",
    "def area_calculator(rows:int,cols:int,room_size:list) -> tuple:\n",
    "    '''\n",
    "    Area restante da casa para um tamanho definido de quarto\n",
    "    e um susuwatari no canto superior esquerdo.\n",
    "    '''\n",
    "\n",
    "    matrix = np.empty([rows,cols])\n",
    "\n",
    "    for i in range(rows):\n",
    "        for j in range(cols):\n",
    "            matrix[i,j] = 1/ 2**(i + j)\n",
    "\n",
    "    \n",
    "    width,height = room_size\n",
    "    \n",
    "    area = 0\n",
    "    for n in range(rows):\n",
    "        if n < height:\n",
    "            area += np.sum(matrix[n,width:])\n",
    "        else:\n",
    "            area += np.sum(matrix[n,:])\n",
    "            \n",
    "    total_area = np.sum(matrix)\n",
    "    \n",
    "    return (matrix,area,total_area)\n",
    "\n",
    "area_calculator(5,5,[2,2])[0]"
   ]
  },
  {
   "cell_type": "code",
   "execution_count": 3,
   "id": "1930410e-9234-4cef-b5f5-5dfec0379493",
   "metadata": {},
   "outputs": [
    {
     "name": "stdout",
     "output_type": "stream",
     "text": [
      "0.9296913146972656\n",
      "0.9375\n"
     ]
    }
   ],
   "source": [
    "print(area_calculator(10,10,[3,3])[1])\n",
    "\n",
    "'''\n",
    "Cada nova coluna (ou linha) será 1/2 da coluna (ou linha) anterior.\n",
    "Já que existe a área do quarto que é removida do calculo, não \n",
    "importa a quantidade de colunas ou linhas da casa, pois no limite \n",
    "a área fora do quarto nunca chega a 1, sempre será adicionado 1/2 \n",
    "do que foi adicionado na última iteração.\n",
    "Portanto é impossível retirar o susuwatari do quarto.\n",
    "\n",
    "Área fora do quarto: 0.9375\n",
    "'''\n",
    "\n",
    "print(area_calculator(1000,1000,[3,3])[1])"
   ]
  },
  {
   "cell_type": "markdown",
   "id": "5153190b-ee0b-49f2-ac76-3927a9ca0351",
   "metadata": {},
   "source": [
    "#### b)"
   ]
  },
  {
   "cell_type": "code",
   "execution_count": 4,
   "id": "ffa7009a-57af-4051-a015-a9624c68f837",
   "metadata": {},
   "outputs": [
    {
     "name": "stdout",
     "output_type": "stream",
     "text": [
      "(1.75, 4.0) \n",
      " [[1.         0.5        0.25       0.125      0.0625    ]\n",
      " [0.5        0.25       0.125      0.0625     0.03125   ]\n",
      " [0.25       0.125      0.0625     0.03125    0.015625  ]\n",
      " [0.125      0.0625     0.03125    0.015625   0.0078125 ]\n",
      " [0.0625     0.03125    0.015625   0.0078125  0.00390625]]\n"
     ]
    }
   ],
   "source": [
    "'''\n",
    "Para um grid 2021×2021:\n",
    "Vimos em a) que não é possível tirar um susuwatari de um quarto 3x3.\n",
    "Para um quarto 2x2 é possível retirar o susuwatari e esse é o menor\n",
    "quadrado que permite que o problema seja resolvido (com o susuwatari \n",
    "no canto superior esquerdo). Nesse grid ainda é possível adicionar \n",
    "mais 2 quadrados para baixo ou dois para direita. Podemos ver isso pela \n",
    "área do quarto vs a área do restante da casa ao ir transferindo quadrados\n",
    "do resto da casa para o quarto contanto que a area do restante da casa \n",
    "permaneça maior que 1. Mas mesmo assim é impossivel formar um quadrado \n",
    "maior que 2x2.\n",
    "\n",
    "Area da casa = 4\n",
    "Area do casa fora o quarto = 1.75\n",
    "Massa do susuwatari no canto superior esquerdo = 1\n",
    "Area sobrando fora do quarto = 0.75\n",
    "\n",
    "'''\n",
    "\n",
    "print(area_calculator(1000,1000,[2,2])[1:],'\\n',area_calculator(5,5,[2,2])[0])"
   ]
  },
  {
   "cell_type": "code",
   "execution_count": 5,
   "id": "0274e91e-dbfb-43fd-8a40-ade6bfcc6cae",
   "metadata": {},
   "outputs": [
    {
     "data": {
      "text/plain": [
       "array([[0., 0., 0., 0., 0., 0., 0., 0., 1., 1.],\n",
       "       [0., 0., 0., 0., 0., 0., 0., 0., 1., 1.],\n",
       "       [0., 0., 0., 0., 0., 0., 0., 0., 1., 1.],\n",
       "       [0., 0., 0., 0., 0., 0., 0., 0., 1., 1.],\n",
       "       [0., 0., 0., 0., 0., 0., 0., 0., 1., 1.],\n",
       "       [0., 0., 0., 0., 0., 0., 0., 0., 1., 1.],\n",
       "       [0., 0., 0., 0., 0., 0., 0., 0., 1., 1.],\n",
       "       [0., 0., 0., 0., 0., 0., 0., 0., 1., 1.],\n",
       "       [1., 1., 1., 1., 1., 1., 1., 1., 1., 1.],\n",
       "       [1., 1., 1., 1., 1., 1., 1., 1., 1., 2.]])"
      ]
     },
     "execution_count": 5,
     "metadata": {},
     "output_type": "execute_result"
    }
   ],
   "source": [
    "'''\n",
    "Dado que no grid 3x3 não é possível retirar o susuwatari do canto\n",
    "superior esquerdo do quarto, a area de 2021×2021 pode ser reduzida\n",
    "por duas linhas de largura 2, uma horizontal e uma vertical.\n",
    "Como no exemplo a seguir.\n",
    "'''\n",
    "\n",
    "efective_area = np.zeros([10,10])\n",
    "\n",
    "efective_area[:,8:] = 1\n",
    "efective_area[8:,:] = 1\n",
    "\n",
    "efective_area[9,9] = 2\n",
    "\n",
    "efective_area"
   ]
  },
  {
   "cell_type": "code",
   "execution_count": 6,
   "id": "bf3f0fd9-6330-4076-829a-3e0abcfb2cb0",
   "metadata": {},
   "outputs": [
    {
     "name": "stdout",
     "output_type": "stream",
     "text": [
      "[[2. 0. 0. 0. 0.]\n",
      " [0. 0. 0. 0. 0.]\n",
      " [0. 0. 0. 0. 0.]\n",
      " [0. 0. 0. 0. 0.]\n",
      " [0. 0. 0. 0. 0.]]\n",
      "(3.0, 4.0)\n",
      "[[1.         0.5        0.25       0.125      0.0625    ]\n",
      " [0.5        0.25       0.125      0.0625     0.03125   ]\n",
      " [0.25       0.125      0.0625     0.03125    0.015625  ]\n",
      " [0.125      0.0625     0.03125    0.015625   0.0078125 ]\n",
      " [0.0625     0.03125    0.015625   0.0078125  0.00390625]]\n"
     ]
    }
   ],
   "source": [
    "'''\n",
    "Qualquer susuwatari que estiver distante do canto inferior direito \n",
    "da matriz (ponto 2) irá se dividir e obrigatóriamente irá sair por\n",
    "esse ponto de alguma forma. Se o susuwatari estiver na linha\n",
    "vertical ele se dividirá descendo até chegar em 2 e se estiver na\n",
    "linha horizonal irá se dividir até a direta até chegar em 2.\n",
    "Desse modo o problema passa a ser quantos susuwatari consigo remover\n",
    "pelo ponto 2 antes de travar o resto da casa e não conseguir remover\n",
    "mais nenhum.\n",
    "'''\n",
    "\n",
    "\n",
    "'''\n",
    "Se olharmos agora um corte do resto da casa e apenas o ponto 2 do \n",
    "quarto no canto superior esquerdo, podemos tentar calcular quantos \n",
    "susuwatari saindo pelo ponto 2 a casa consegue suportar. A questão é que \n",
    "'''\n",
    "\n",
    "efective_area = np.zeros([5,5])\n",
    "\n",
    "efective_area[0,0] = 2\n",
    "\n",
    "print(efective_area)\n",
    "\n",
    "print(area_calculator(100,100,[1,1])[1:])\n",
    "print(area_calculator(5,5,[1,1])[0])"
   ]
  },
  {
   "cell_type": "code",
   "execution_count": 7,
   "id": "94ce96d3-bca0-46ca-bd55-4aca091f8fee",
   "metadata": {},
   "outputs": [
    {
     "data": {
      "text/plain": [
       "1.75"
      ]
     },
     "execution_count": 7,
     "metadata": {},
     "output_type": "execute_result"
    }
   ],
   "source": [
    "'''\n",
    "Dessa vez temos a casa com area 4 e o quarto com area 1. Intuitivamente\n",
    "poderiamos dizer que no resto da casa cabem exatamente 3 susuwataris que\n",
    "vêm pelo ponto 2 do quarto. \n",
    "\n",
    "\n",
    "\n",
    "Porém a primeira linha da casa e a primeira\n",
    "coluna da casa não podem ser preenchidas completamente pelos susuwataris\n",
    "que saem pelo ponto 2, fazendo com que a area restante da casa seja menor \n",
    "que 3, permitindo que somente 2 susuwataris saiam do quarto.\n",
    "'''\n",
    "\n",
    "area_calculator(100,100,[2,2])[1]"
   ]
  },
  {
   "cell_type": "code",
   "execution_count": 8,
   "id": "acfb805d-bf8f-4b91-ae52-e23f063e401a",
   "metadata": {},
   "outputs": [
    {
     "name": "stdout",
     "output_type": "stream",
     "text": [
      "[[1. 1.]\n",
      " [1. 2.]]\n"
     ]
    }
   ],
   "source": [
    "'''\n",
    "Em questão de posição, os dois susuwataris possíveis podem estár em qualquer\n",
    "posição das quatro possíveis no quarto 2x2, exceto no canto superior esquerdo.\n",
    "Pois, se um dos susuwataris está no canto superior esquerdo ele irá se dividir\n",
    "em mais dois susuwataris dentro do quarto, totalizando 3 susuwataris que devem\n",
    "sair pelo ponto 2, o que vimes que é impossivel.\n",
    "'''\n",
    "\n",
    "room_area = np.ones([2,2])\n",
    "room_area[1,1] = 2\n",
    "print(room_area)"
   ]
  }
 ],
 "metadata": {
  "kernelspec": {
   "display_name": "Python 3 (ipykernel)",
   "language": "python",
   "name": "python3"
  },
  "language_info": {
   "codemirror_mode": {
    "name": "ipython",
    "version": 3
   },
   "file_extension": ".py",
   "mimetype": "text/x-python",
   "name": "python",
   "nbconvert_exporter": "python",
   "pygments_lexer": "ipython3",
   "version": "3.9.6"
  }
 },
 "nbformat": 4,
 "nbformat_minor": 5
}
